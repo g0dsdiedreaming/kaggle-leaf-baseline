{
 "cells": [
  {
   "cell_type": "code",
   "execution_count": null,
   "metadata": {},
   "outputs": [],
   "source": [
    "import torch\n",
    "from fastai import *\n",
    "from fastai.vision.all import *\n",
    "import pandas as pd\n",
    "import json\n",
    "\n",
    "df = pd.read_csv('./cassava-leaf-disease-classification/train.csv')\n",
    "path = Path('./cassava-leaf-disease-classification/train_images')\n",
    "def get_x(r): return path/r['image_id']\n",
    "def get_y(r): return str(r['label'])"
   ]
  },
  {
   "cell_type": "code",
   "execution_count": null,
   "metadata": {},
   "outputs": [],
   "source": [
    "with open('./cassava-leaf-disease-classification/label_num_to_disease_map.json', 'r') as j:\n",
    "     lbl_to_disease = json.loads(j.read())"
   ]
  },
  {
   "cell_type": "code",
   "execution_count": null,
   "metadata": {},
   "outputs": [],
   "source": [
    "lbl_to_disease"
   ]
  },
  {
   "cell_type": "code",
   "execution_count": null,
   "metadata": {},
   "outputs": [],
   "source": [
    "dblock = DataBlock(blocks=(ImageBlock, MultiCategoryBlock),\n",
    "                   get_x = get_x, get_y = get_y, \n",
    "                   splitter=RandomSplitter(0.2),\n",
    "                   item_tfms=RandomResizedCrop(224, min_scale=0.35),  \n",
    "                   batch_tfms=aug_transforms(size=224, min_scale=0.75)) \n",
    "dsets = dblock.datasets(df)\n",
    "dls = dblock.dataloaders(df)"
   ]
  },
  {
   "cell_type": "code",
   "execution_count": null,
   "metadata": {},
   "outputs": [],
   "source": [
    "learn = cnn_learner(dls, resnet50, metrics=accuracy_multi)"
   ]
  },
  {
   "cell_type": "code",
   "execution_count": null,
   "metadata": {},
   "outputs": [],
   "source": [
    "learn.fine_tune(3,freeze_epochs=4)"
   ]
  },
  {
   "cell_type": "code",
   "execution_count": null,
   "metadata": {},
   "outputs": [],
   "source": [
    "lr_min, lr_steep = learn.lr_find()"
   ]
  },
  {
   "cell_type": "code",
   "execution_count": null,
   "metadata": {},
   "outputs": [],
   "source": [
    "learn.unfreeze()\n",
    "learn.fit_one_cycle(2,  slice(lr_min, lr_steep))"
   ]
  },
  {
   "cell_type": "code",
   "execution_count": null,
   "metadata": {},
   "outputs": [],
   "source": [
    "path = '/home/aleksflames/Documents/notebooks/kaggle-leafy/cassava-leaf-disease-classification/test_images/'\n",
    "def make_pred(path):\n",
    "    lister = []\n",
    "    files = os.listdir(path)\n",
    "    for f in files:\n",
    "        pred =learn.predict(path + f)\n",
    "        tmp = {'image_id':f,\n",
    "               'label':pred[0]}\n",
    "        x = pd.DataFrame.from_dict([tmp])\n",
    "        lister.append(x)\n",
    "    df = pd.concat(lister)\n",
    "    return df"
   ]
  },
  {
   "cell_type": "code",
   "execution_count": null,
   "metadata": {},
   "outputs": [],
   "source": [
    "ret = make_pred()"
   ]
  },
  {
   "cell_type": "code",
   "execution_count": null,
   "metadata": {},
   "outputs": [],
   "source": [
    "ret.to_excel('sample_submission.csv')"
   ]
  }
 ],
 "metadata": {
  "kernelspec": {
   "display_name": "Python 3",
   "language": "python",
   "name": "python3"
  },
  "language_info": {
   "codemirror_mode": {
    "name": "ipython",
    "version": 3
   },
   "file_extension": ".py",
   "mimetype": "text/x-python",
   "name": "python",
   "nbconvert_exporter": "python",
   "pygments_lexer": "ipython3",
   "version": "3.8.0"
  }
 },
 "nbformat": 4,
 "nbformat_minor": 4
}
